{
 "cells": [
  {
   "cell_type": "markdown",
   "metadata": {},
   "source": [
    "### <font color = blue>Primer examen parcial </font>"
   ]
  },
  {
   "cell_type": "markdown",
   "metadata": {},
   "source": [
    "## <font color= #8A0829> Simulación matemática.</font>\n",
    "- <Strong> Lázaro Alonso </Strong>\n",
    "- <Strong> Año </Strong>: 2017\n",
    "- <Strong> Email: </Strong>  <font color=\"blue\"> `alonsosilva@iteso.mx, lazarus.alon@gmail.com` </font>\n",
    "___\n",
    "#### Estudiante: "
   ]
  },
  {
   "cell_type": "markdown",
   "metadata": {},
   "source": [
    "## Diego Parra Pereda ic698296"
   ]
  },
  {
   "cell_type": "markdown",
   "metadata": {},
   "source": [
    "### Indicaciones:\n",
    "- Todos  aquellos cuya inicial de su primer apellido este entre la *A* y la *L* tienen que hacer la **Actividad 1.1** del **problema 1. **\n",
    "- Todos  aquellos cuya inicial de su primer primer apellido este entre la *M* y la *Z* tienen que hacer la **Actividad 1.2** del **problema 1. **\n",
    "- Todos  aquellos cuya inicial de su primer apellido este entre la *M* y la *Z* tienen que hacer el **problema 2. **\n",
    "- Todos  aquellos cuya inicial de su primer apellido este entre la *A* y la *L* tienen que hacer el **problema 3. **"
   ]
  },
  {
   "cell_type": "markdown",
   "metadata": {},
   "source": [
    "<font color = red>**El objetivo final es que logren juntar 60 puntos. Es decir resolver 2 problemas por completo. ** </font>"
   ]
  },
  {
   "cell_type": "markdown",
   "metadata": {},
   "source": [
    "### Problema 1. "
   ]
  },
  {
   "cell_type": "markdown",
   "metadata": {},
   "source": [
    "Considere un oscilador armónico simple(péndulo), cuya variación en $\\theta$ está dada por:"
   ]
  },
  {
   "cell_type": "markdown",
   "metadata": {},
   "source": [
    "\\begin{equation}\n",
    "\\theta(t) = \\theta(0) \\cos(\\omega_{0} t) + \\frac{\\dot{\\theta}(0)}{\\omega_{0}} \\sin(\\omega_{0} t)\n",
    "\\end{equation}"
   ]
  },
  {
   "cell_type": "markdown",
   "metadata": {},
   "source": [
    "Considere la siguiente función que calcula $\\theta$ en $t$. Para responder las siguientes actividades. "
   ]
  },
  {
   "cell_type": "code",
   "execution_count": 4,
   "metadata": {
    "collapsed": true
   },
   "outputs": [],
   "source": [
    "import numpy as np\n",
    "import matplotlib.pyplot as plt\n",
    "%matplotlib inline"
   ]
  },
  {
   "cell_type": "code",
   "execution_count": 5,
   "metadata": {
    "collapsed": true
   },
   "outputs": [],
   "source": [
    "def theta_t(theta_0, theta_0_dot, g, l, t):\n",
    "    omega_0 = np.sqrt(g/l)\n",
    "    return theta_0 * np.cos(omega_0 * t) + theta_0_dot * np.sin(omega_0 * t)/omega_0"
   ]
  },
  {
   "cell_type": "markdown",
   "metadata": {},
   "source": [
    "Ahora si gráficamos al péndulo en las coordenas $x,y$, se obtiene algo similar a lo siguiente: "
   ]
  },
  {
   "cell_type": "code",
   "execution_count": 6,
   "metadata": {
    "collapsed": true
   },
   "outputs": [],
   "source": [
    "t = np.linspace(0,10)"
   ]
  },
  {
   "cell_type": "code",
   "execution_count": 7,
   "metadata": {},
   "outputs": [
    {
     "data": {
      "image/png": "[encoded data removed]",
      "text/plain": [
       "<matplotlib.figure.Figure at 0x79a4e68208>"
      ]
     },
     "metadata": {},
     "output_type": "display_data"
    }
   ],
   "source": [
    "fig = plt.figure(figsize = (5,5))\n",
    "ax = fig.add_subplot(1, 1, 1)\n",
    "\n",
    "x = 2 * np.sin(theta_t(.4, .6, 9.8, 2, t))\n",
    "y =  - 2 * np.cos(theta_t(.4, .6, 9.8, 2, t))\n",
    "ax.plot(x, y, 'ko', ms = 1.5)\n",
    "ax.plot([0], [0], 'rD')\n",
    "ax.set_xlim(xmin = -2.2, xmax = 2.2)\n",
    "ax.set_ylim(ymin = -2.2, ymax = .2)\n",
    "plt.show()"
   ]
  },
  {
   "cell_type": "markdown",
   "metadata": {},
   "source": [
    "**Actividad 1.1 **\n",
    "- Modificar el programa anterior para que el pédulo describa una trayectoria completamente circular. **(10 puntos)**\n",
    "- Indicar en el caso anterior con código de colores, los momentos en que el péndulo se encuetra por arriba del cero en $y$ y cuando se encuentra por debajo. **(10 puntos)**\n",
    "- Considere un conjunto de péndulos, con las siguientes longitudes: \n",
    "$$ l = [0.5, 1, 2, 4, 8, 16]. $$\n",
    "Realice una representación similar a la anterior, pero ahora para todos los péndulos representados en la misma gráfica y cada uno con diferente color. Discutir resultados.**(10 puntos)** "
   ]
  },
  {
   "cell_type": "markdown",
   "metadata": {},
   "source": [
    "**Actividad 1.2 **\n",
    "- Modificar el programa anterior para que el pédulo describa una trayectoria semi-circular. **(10 puntos)**\n",
    "- Indicar en el caso anterior con código de colores, los momentos en que el péndulo se encuetra tienes coordenas en $x$ negativas y cuando se encuentra en positivas.  **(10 puntos)**\n",
    "- Considere un conjunto de péndulos con la misma longitudes, pero con diferentes gravedades: \n",
    "$$ g = [0.5, 1, 2, 4, 8, 16]. $$ \n",
    "Realice una representación similar a la anterior, pero ahora para todos los péndulos representados en la misma gráfica y cada uno con diferente color. Discutir resultados. **(10 puntos)**"
   ]
  },
  {
   "cell_type": "code",
   "execution_count": 8,
   "metadata": {
    "collapsed": true
   },
   "outputs": [],
   "source": [
    "# Respuesta\n",
    "import numpy as np\n",
    "import matplotlib.pyplot as plt\n",
    "%matplotlib inline"
   ]
  },
  {
   "cell_type": "code",
   "execution_count": 9,
   "metadata": {
    "collapsed": true
   },
   "outputs": [],
   "source": [
    "def theta_t(theta_0, theta_0_dot, g, l, t):\n",
    "    omega_0 = np.sqrt(g/l)\n",
    "    return theta_0 * np.cos(omega_0 * t) + theta_0_dot * np.sin(omega_0 * t)"
   ]
  },
  {
   "cell_type": "code",
   "execution_count": 10,
   "metadata": {
    "collapsed": true
   },
   "outputs": [],
   "source": [
    "t = np.linspace(0,10)"
   ]
  },
  {
   "cell_type": "code",
   "execution_count": 74,
   "metadata": {},
   "outputs": [
    {
     "data": {
      "image/png": "[encoded data removed]",
      "text/plain": [
       "<matplotlib.figure.Figure at 0x79a4fd6470>"
      ]
     },
     "metadata": {},
     "output_type": "display_data"
    }
   ],
   "source": [
    "fig = plt.figure(figsize = (7,5))\n",
    "ax = fig.add_subplot(1, 1, 1)\n",
    "\n",
    "x = 2 * np.sin(theta_t(1.57, .6, 9.8, 2, t))\n",
    "y =  - 2 * np.cos(theta_t(1.57, .6, 9.8, 2, t))\n",
    "\n",
    "ax.plot(x, y, 'bd', ms = 5)\n",
    "ax.plot([0], [0], 'gD')\n",
    "\n",
    "ax.set_xlim(xmin = -2.2, xmax = 2.2)\n",
    "ax.set_ylim(ymin = -2.2, ymax = .2)\n",
    "\n",
    "plt.show()"
   ]
  },
  {
   "cell_type": "code",
   "execution_count": 12,
   "metadata": {
    "collapsed": true
   },
   "outputs": [],
   "source": [
    "# Respuesta\n",
    "import numpy as np\n",
    "import matplotlib.pyplot as plt\n",
    "%matplotlib inline"
   ]
  },
  {
   "cell_type": "code",
   "execution_count": 13,
   "metadata": {
    "collapsed": true
   },
   "outputs": [],
   "source": [
    "def theta_t(theta_0, theta_0_dot, g, l, t):\n",
    "    omega_0 = np.sqrt(g/l)\n",
    "    return theta_0 * np.cos(omega_0 * t) + theta_0_dot * np.sin(omega_0 * t)"
   ]
  },
  {
   "cell_type": "code",
   "execution_count": 14,
   "metadata": {
    "collapsed": true
   },
   "outputs": [],
   "source": [
    "t = np.linspace(0,10)"
   ]
  },
  {
   "cell_type": "code",
   "execution_count": 76,
   "metadata": {},
   "outputs": [
    {
     "data": {
      "image/png": "[encoded data removed]",
      "text/plain": [
       "<matplotlib.figure.Figure at 0x79a70dc198>"
      ]
     },
     "metadata": {},
     "output_type": "display_data"
    }
   ],
   "source": [
    "fig = plt.figure(figsize = (7,5))\n",
    "ax = fig.add_subplot(1, 1, 1)\n",
    "x = 2 * np.sin(theta_t(1.57, 0, 9.8, 2, t))\n",
    "y =  - 2 * np.cos(theta_t(1.57, 0, 9.8, 2, t))\n",
    "ax.plot(x, y, 'bo', ms = 3)\n",
    "ax.plot([0], [0], 'gD')\n",
    "ax.set_xlim(xmin = -3, xmax = 3)\n",
    "ax.set_ylim(ymin = -3, ymax = .3)\n",
    "plt.show()"
   ]
  },
  {
   "cell_type": "code",
   "execution_count": 16,
   "metadata": {},
   "outputs": [
    {
     "data": {
      "text/plain": [
       "array([-0.30186704, -1.9983598 , -1.02749371, -0.14489145, -1.39360214,\n",
       "       -1.86161016, -0.04106839, -0.55933681, -1.99448644, -0.89678283,\n",
       "       -0.22379964, -1.51784312, -1.75725738, -0.07448834, -0.80619655,\n",
       "       -1.96541933, -0.76954944, -0.31260143, -1.6341099 , -1.62394097,\n",
       "       -0.09702228, -1.0379322 , -1.91350047, -0.64744785])"
      ]
     },
     "execution_count": 16,
     "metadata": {},
     "output_type": "execute_result"
    }
   ],
   "source": [
    "z=x[x<0]\n",
    "z"
   ]
  },
  {
   "cell_type": "code",
   "execution_count": 17,
   "metadata": {},
   "outputs": [
    {
     "data": {
      "text/plain": [
       "24"
      ]
     },
     "execution_count": 17,
     "metadata": {},
     "output_type": "execute_result"
    }
   ],
   "source": [
    "len(x[x<0])"
   ]
  },
  {
   "cell_type": "code",
   "execution_count": 18,
   "metadata": {},
   "outputs": [
    {
     "data": {
      "text/plain": [
       "(array([ 4,  5,  6,  8,  9, 10, 14, 18, 19, 20, 22, 23, 24, 28, 32, 33, 34,\n",
       "        36, 37, 38, 42, 46, 47, 48], dtype=int64),)"
      ]
     },
     "execution_count": 18,
     "metadata": {},
     "output_type": "execute_result"
    }
   ],
   "source": [
    "np.where(x<0)"
   ]
  },
  {
   "cell_type": "code",
   "execution_count": 19,
   "metadata": {
    "collapsed": true
   },
   "outputs": [],
   "source": [
    "x1=x[np.where(x<0)]"
   ]
  },
  {
   "cell_type": "code",
   "execution_count": 20,
   "metadata": {
    "collapsed": true
   },
   "outputs": [],
   "source": [
    "x2=x[np.where(x>0)]"
   ]
  },
  {
   "cell_type": "code",
   "execution_count": 21,
   "metadata": {
    "collapsed": true
   },
   "outputs": [],
   "source": [
    "y2=y[np.where(x>0)]"
   ]
  },
  {
   "cell_type": "code",
   "execution_count": 22,
   "metadata": {
    "collapsed": true
   },
   "outputs": [],
   "source": [
    "y1=y[np.where(x<0)]"
   ]
  },
  {
   "cell_type": "code",
   "execution_count": 61,
   "metadata": {},
   "outputs": [
    {
     "data": {
      "image/png": "[encoded data removed]",
      "text/plain": [
       "<matplotlib.figure.Figure at 0x79a5ffb828>"
      ]
     },
     "metadata": {},
     "output_type": "display_data"
    }
   ],
   "source": [
    "fig = plt.figure(figsize = (6,3))\n",
    "\n",
    "ax = fig.add_subplot(1, 1, 1)\n",
    "\n",
    "ax.plot(x1, y1, 'm*')\n",
    "ax.plot(x2, y2, 'cd')\n",
    "\n",
    "ax.set_xlim(xmin = -3, xmax = 3)\n",
    "ax.set_ylim(ymin = -3, ymax = .3)\n",
    "\n",
    "plt.show()"
   ]
  },
  {
   "cell_type": "code",
   "execution_count": 24,
   "metadata": {
    "collapsed": true
   },
   "outputs": [],
   "source": [
    "gravedad = np.array ([.5, 1, 2, 4, 8, 16])"
   ]
  },
  {
   "cell_type": "code",
   "execution_count": 25,
   "metadata": {},
   "outputs": [
    {
     "data": {
      "text/plain": [
       "array([-1.84212199, -1.57677382, -1.51605737, -1.72746099, -1.96956477,\n",
       "       -1.94483457, -1.68463644, -1.50548102, -1.61004451, -1.88161607,\n",
       "       -1.99691442, -1.81044119, -1.55512314, -1.52867729, -1.76045012,\n",
       "       -1.98366094, -1.92206326, -1.65368812, -1.50229101, -1.63810197,\n",
       "       -1.90884522, -1.98938026, -1.77779414, -1.53683788, -1.54507564,\n",
       "       -1.79336931, -1.99351017, -1.89624236, -1.62450615, -1.50328465,\n",
       "       -1.66818486, -1.93327734, -1.97748629, -1.74476879, -1.52220435,\n",
       "       -1.56499714, -1.82563092, -1.99891792, -1.86786376, -1.5975737 ,\n",
       "       -1.50844681, -1.69979106, -1.95444438, -1.96146692, -1.7119499 ,\n",
       "       -1.51144928, -1.58812811, -1.85664942, -1.99977701, -1.8374612 ])"
      ]
     },
     "execution_count": 25,
     "metadata": {},
     "output_type": "execute_result"
    }
   ],
   "source": [
    "def theta_t(theta_0, theta_0_dot, g, l, t):\n",
    "    omega_0 = np.sqrt(g/l)\n",
    "    return theta_0 * np.cos(omega_0 * t) + theta_0_dot * np.sin(omega_0 * t)\n",
    "for indx, g in enumerate (gravedad):\n",
    "    x = 2 * np.sin(theta_t(.4, .6, g, 2, t))\n",
    "    y =  - 2 * np.cos(theta_t(.4, .6, g, 2, t))\n",
    "(x)\n",
    "(y)"
   ]
  },
  {
   "cell_type": "code",
   "execution_count": 65,
   "metadata": {
    "collapsed": true
   },
   "outputs": [],
   "source": [
    "cmap= ['red','blue','green','black','orange',]"
   ]
  },
  {
   "cell_type": "code",
   "execution_count": 88,
   "metadata": {},
   "outputs": [
    {
     "data": {
      "image/png": "[encoded data removed]",
      "text/plain": [
       "<matplotlib.figure.Figure at 0x79a4f7e7b8>"
      ]
     },
     "metadata": {},
     "output_type": "display_data"
    }
   ],
   "source": [
    "fig = plt.figure(figsize = (15,10))\n",
    "for indx, g in enumerate (gravedad):\n",
    "    ax = fig.add_subplot(1, 1, 1)\n",
    "    x = 2 * np.sin(theta_t(1.57, 0, g, 2, t))\n",
    "    y =  - 2 * np.cos(theta_t(1.57, 0, g, 2, t))\n",
    "    plt.scatter(x,y, cmap = 'inferno', s= 35, lw=0)\n",
    "ax.plot(x, y, 'k*', ms = 7)\n",
    "ax.plot([0], [0], 'gD')\n",
    "ax.set_xlim(xmin = -2.2, xmax = 2.2)\n",
    "ax.set_ylim(ymin = -2.2, ymax = .2)\n",
    "plt.show()"
   ]
  },
  {
   "cell_type": "code",
   "execution_count": null,
   "metadata": {
    "collapsed": true
   },
   "outputs": [],
   "source": []
  },
  {
   "cell_type": "code",
   "execution_count": null,
   "metadata": {
    "collapsed": true
   },
   "outputs": [],
   "source": []
  },
  {
   "cell_type": "markdown",
   "metadata": {},
   "source": [
    "### Problema 2. "
   ]
  },
  {
   "cell_type": "markdown",
   "metadata": {},
   "source": [
    "**Ley de Newton de enfriamiento**"
   ]
  },
  {
   "cell_type": "markdown",
   "metadata": {},
   "source": [
    "La ley empírica de Newton, relativa al enfriamiento de un objeto, se expresa con la ecuación diferencial lineal de primer orden\n"
   ]
  },
  {
   "cell_type": "markdown",
   "metadata": {},
   "source": [
    "$$\\frac{dT}{dt} = k (T - T_m)$$"
   ]
  },
  {
   "cell_type": "markdown",
   "metadata": {},
   "source": [
    "donde $k$ es una constante de proporcionalidad, $T$ es la temperatura del objeto para $t>0$"
   ]
  },
  {
   "cell_type": "code",
   "execution_count": 28,
   "metadata": {
    "collapsed": true
   },
   "outputs": [],
   "source": [
    "def temperatura(T, Tm, k, t):\n",
    "    return k*(T - Tm)"
   ]
  },
  {
   "cell_type": "code",
   "execution_count": 29,
   "metadata": {
    "collapsed": true
   },
   "outputs": [],
   "source": [
    "# usar odeint para encontrar la solución. (Puede ayudarle la clase de mapa logistico)"
   ]
  },
  {
   "cell_type": "code",
   "execution_count": 30,
   "metadata": {
    "collapsed": true
   },
   "outputs": [],
   "source": [
    "import numpy as np\n",
    "from scipy.integrate import odeint\n",
    "import matplotlib.pyplot as plt\n",
    "%matplotlib inline"
   ]
  },
  {
   "cell_type": "markdown",
   "metadata": {},
   "source": [
    "**Actividad 2.1**\n",
    "¿Cuánto esperar para tomar el café?\n",
    "\n",
    "Primero calentamos agua a  80°C\n",
    " . Posteriormente agregamos café al vaso con el agua caliente. Después realizamos la medición de la temperatura ambiente, la cual fue de  24°C. \n",
    " \n",
    "- Simula el sistema en un tiempo de  0\n",
    "  a  120 unidades de tiempo con una constante de proporcionalidad  $k=−0.0565$. **(10 puntos)**\n",
    "-  Supoga que cada unidad de tiempo corresponde a un minuto. ¿En que tiempo aproximadamente la temperatura es menor a  30°C\n",
    " ? **(10 puntos)**\n",
    "-  Busca una constante de proporcionalidad  $k$\n",
    "  en un rango ( de  −0.2\n",
    "  a  0.2\n",
    "  con incremento de 0.01), para la cual el café tiene una temperatura menor de  30°C\n",
    "  en un tiempo a 20 minutos. **(10 puntos)**\n"
   ]
  },
  {
   "cell_type": "code",
   "execution_count": 95,
   "metadata": {},
   "outputs": [
    {
     "data": {
      "image/png": "[encoded data removed]",
      "text/plain": [
       "<matplotlib.figure.Figure at 0x79a5ce4fd0>"
      ]
     },
     "metadata": {},
     "output_type": "display_data"
    }
   ],
   "source": [
    "def temperatura(T,t):\n",
    "    k=-.0565\n",
    "    Tm=34\n",
    "    return k*(T-Tm)\n",
    "t = np.linspace(0,120)\n",
    "T0=80\n",
    "t = np.linspace(0,120)\n",
    "respuesta = odeint(temperatura,T0,t)\n",
    "plt.plot(t,respuesta)\n",
    "plt.xlabel('$t$', fontsize = 40)\n",
    "plt.ylabel('$T$', fontsize = 40)\n",
    "plt.show()"
   ]
  },
  {
   "cell_type": "markdown",
   "metadata": {},
   "source": [
    "### Problema 3.\n",
    "**Interés simple vs interés compuesto. **"
   ]
  },
  {
   "cell_type": "markdown",
   "metadata": {},
   "source": [
    "- Simple \n",
    "> Recuerden $C_k$ es la meta\n",
    "$$C_k=C_0(1+ki).$$"
   ]
  },
  {
   "cell_type": "markdown",
   "metadata": {},
   "source": [
    "- Compuesto\n",
    "> $$C_k=C_0(1+i)^k.$$"
   ]
  },
  {
   "cell_type": "markdown",
   "metadata": {},
   "source": [
    "** Actividad 3.1**\n",
    "- Realice un análisis comparativo del numero de periodos para llegar a la misma meta, considerenado el mismo interés $i$. Gráfique en la misma figura.  **(10 puntos)**\n",
    "- Considere diferentes escenarios de interés. Usted elija.  **(10 puntos)**\n",
    "- Discuta las ventajas o desventajas de los diferentes modelos. En el supuesto de que ustedes son el banco. **(10 puntos)**"
   ]
  },
  {
   "cell_type": "code",
   "execution_count": 33,
   "metadata": {
    "collapsed": true
   },
   "outputs": [],
   "source": [
    "# Respuesta \n",
    "\n"
   ]
  },
  {
   "cell_type": "code",
   "execution_count": null,
   "metadata": {
    "collapsed": true
   },
   "outputs": [],
   "source": []
  },
  {
   "cell_type": "code",
   "execution_count": null,
   "metadata": {
    "collapsed": true
   },
   "outputs": [],
   "source": []
  },
  {
   "cell_type": "code",
   "execution_count": null,
   "metadata": {
    "collapsed": true
   },
   "outputs": [],
   "source": []
  },
  {
   "cell_type": "code",
   "execution_count": null,
   "metadata": {
    "collapsed": true
   },
   "outputs": [],
   "source": []
  }
 ],
 "metadata": {
  "kernelspec": {
   "display_name": "Python 3",
   "language": "python",
   "name": "python3"
  },
  "language_info": {
   "codemirror_mode": {
    "name": "ipython",
    "version": 3
   },
   "file_extension": ".py",
   "mimetype": "text/x-python",
   "name": "python",
   "nbconvert_exporter": "python",
   "pygments_lexer": "ipython3",
   "version": "3.6.1"
  }
 },
 "nbformat": 4,
 "nbformat_minor": 1
}
